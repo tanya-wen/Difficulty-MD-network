{
 "cells": [
  {
   "cell_type": "code",
   "execution_count": 1,
   "source": [
    "import pandas as pd\n",
    "import numpy as np\n",
    "\n",
    "datadir = '/media/tw260/T7/Effort/fMRI_BIDS'"
   ],
   "outputs": [],
   "metadata": {}
  },
  {
   "cell_type": "code",
   "execution_count": 2,
   "source": [
    "## Stroop Task ##\n",
    "\n",
    "#list the subjects you want to run\n",
    "# int_ll_24 had weird fmriprep results (brain completely disoriented and cut off)\n",
    "subject_list = ['s01','s02','s03','s04','s05','s06','s08','s09','s10','s11','s12','s13','s14','s15','s16','s18','s19','s20','s23','s24','s25','s26','s27','s28','s29','s30','s31']\n",
    "subject_num = [x.replace('s','') for x in subject_list]\n",
    "\n",
    "sub_max = []\n",
    "for sub_i in range(len(subject_list)):\n",
    "    # current subject\n",
    "    cur_sub = subject_list[sub_i]\n",
    "\n",
    "    #I have 5 runs per person, so this iterates through each run\n",
    "    run_max = []\n",
    "    for run_i in range(0,5):\n",
    "        #find the source epi\n",
    "        cur_task = \"effort\"\n",
    "        #this pulls up the confound file from fmriprep\n",
    "        confounds = pd.read_csv(os.path.join(datadir, \"derivatives\", \"fmriprep\", \n",
    "                \"sub-%s\"%cur_sub, \"func\", \n",
    "                \"sub-%s_task-%s_run-%s_desc-confounds_timeseries.tsv\"%(cur_sub, cur_task, run_i+1)),\n",
    "                sep=\"\\t\", na_values=\"n/a\")\n",
    "\n",
    "        all_motion = list(confounds.trans_x) + list(confounds.trans_y) + list(confounds.trans_z) + list(confounds.rot_x) + list(confounds.rot_y) + list(confounds.rot_z)\n",
    "        run_max.append(max(all_motion))\n",
    "        \n",
    "    sub_max.append(run_max)\n",
    "all_max = np.array(sub_max)\n",
    "\n",
    "print(all_max)\n",
    "print(np.nonzero(all_max>5))\n",
    "\n",
    "for i in range(len(np.nonzero(all_max>5)[0])):\n",
    "    print('bad subject:' + subject_list[np.nonzero(all_max>5)[0][i]] + '; bad run:' + subject_list[np.nonzero(all_max>5)[1][i]])\n",
    "\n",
    "\n"
   ],
   "outputs": [
    {
     "output_type": "stream",
     "name": "stdout",
     "text": [
      "[[0.163721  0.526255  0.214232  0.322469  0.202042 ]\n",
      " [0.151811  0.108908  0.0606237 0.182142  0.15433  ]\n",
      " [0.269455  0.146056  0.181866  0.193624  0.212022 ]\n",
      " [0.13659   0.102652  0.0989022 0.105709  0.170151 ]\n",
      " [2.88844   2.171     1.46326   2.20615   0.82549  ]\n",
      " [0.426788  0.868764  0.509125  0.312428  1.56777  ]\n",
      " [0.110029  0.964601  0.549818  0.239996  0.268059 ]\n",
      " [0.332444  0.995751  0.474269  1.10971   0.922568 ]\n",
      " [1.06349   1.58208   3.4457    0.496373  1.87231  ]\n",
      " [0.854651  2.91429   1.86948   1.07768   2.38262  ]\n",
      " [0.28752   0.186514  0.187049  0.351857  0.470347 ]\n",
      " [0.126439  0.119748  0.218899  0.371703  0.389381 ]\n",
      " [0.23066   0.336169  0.292643  0.136072  0.37418  ]\n",
      " [0.709459  0.715315  1.24435   0.645126  0.863566 ]\n",
      " [0.736931  1.07583   0.853731  0.773912  0.789921 ]\n",
      " [0.650465  0.791793  0.204165  0.302879  0.337888 ]\n",
      " [0.253789  0.0929425 0.0908324 0.115979  0.0921927]\n",
      " [0.336738  0.384224  0.247434  0.123519  0.315658 ]\n",
      " [0.143815  0.102828  0.0802157 0.135715  0.205681 ]\n",
      " [0.877584  1.30782   0.84364   1.05381   1.6296   ]\n",
      " [0.185478  0.195503  0.318369  0.454041  0.351744 ]\n",
      " [0.360959  0.321045  0.215523  0.245743  0.214045 ]\n",
      " [0.826593  0.140784  0.623142  0.200021  0.199922 ]\n",
      " [1.12282   4.27456   0.784776  1.80223   1.19338  ]\n",
      " [1.16788   0.788631  5.25651   1.24992   0.491909 ]\n",
      " [0.490897  0.534227  0.454505  0.290994  0.745076 ]\n",
      " [0.463363  0.552093  1.2477    0.25572   0.624814 ]]\n",
      "(array([24]), array([2]))\n",
      "bad subject:s29; bad run:s03\n"
     ]
    }
   ],
   "metadata": {
    "tags": []
   }
  }
 ],
 "metadata": {
  "language_info": {
   "codemirror_mode": {
    "name": "ipython",
    "version": 3
   },
   "file_extension": ".py",
   "mimetype": "text/x-python",
   "name": "python",
   "nbconvert_exporter": "python",
   "pygments_lexer": "ipython3",
   "version": "3.8.3"
  },
  "orig_nbformat": 2,
  "kernelspec": {
   "name": "python3",
   "display_name": "Python 3.8.3 64-bit ('base': conda)"
  },
  "interpreter": {
   "hash": "e134e05457d34029b6460cd73bbf1ed73f339b5b6d98c95be70b69eba114fe95"
  }
 },
 "nbformat": 4,
 "nbformat_minor": 2
}